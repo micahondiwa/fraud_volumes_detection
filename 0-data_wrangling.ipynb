{
 "cells": [
  {
   "cell_type": "markdown",
   "metadata": {},
   "source": [
    "# Data Wrangling"
   ]
  },
  {
   "cell_type": "code",
   "execution_count": 9,
   "metadata": {},
   "outputs": [],
   "source": [
    "import pandas as pd \n",
    "import plotly.express as px \n",
    "from sklearn.metrics import mean_absolute_error\n",
    "from statsmodels.graphics.tsaplots import plot_pacf, plot_acf\n",
    "from statsmodels.tsa.ar_model import AutoReg"
   ]
  },
  {
   "cell_type": "markdown",
   "metadata": {},
   "source": [
    "**Importing Data**"
   ]
  },
  {
   "cell_type": "code",
   "execution_count": 11,
   "metadata": {},
   "outputs": [
    {
     "data": {
      "text/html": [
       "<div>\n",
       "<style scoped>\n",
       "    .dataframe tbody tr th:only-of-type {\n",
       "        vertical-align: middle;\n",
       "    }\n",
       "\n",
       "    .dataframe tbody tr th {\n",
       "        vertical-align: top;\n",
       "    }\n",
       "\n",
       "    .dataframe thead th {\n",
       "        text-align: right;\n",
       "    }\n",
       "</style>\n",
       "<table border=\"1\" class=\"dataframe\">\n",
       "  <thead>\n",
       "    <tr style=\"text-align: right;\">\n",
       "      <th></th>\n",
       "      <th>Year</th>\n",
       "      <th>Month</th>\n",
       "      <th>Prepaid Cards on ATMs</th>\n",
       "      <th>Charge Cards on ATMs</th>\n",
       "      <th>Credit Cards on ATMs</th>\n",
       "      <th>Debit Cards on ATMs</th>\n",
       "      <th>POS Machines (Debit, Credit, Prepaid, Charge Cards)</th>\n",
       "      <th>Total</th>\n",
       "      <th>Fraud Volumes (In Millions)</th>\n",
       "    </tr>\n",
       "  </thead>\n",
       "  <tbody>\n",
       "    <tr>\n",
       "      <th>0</th>\n",
       "      <td>2024</td>\n",
       "      <td>June</td>\n",
       "      <td>213.0</td>\n",
       "      <td>0.0</td>\n",
       "      <td>639</td>\n",
       "      <td>41914</td>\n",
       "      <td>22308</td>\n",
       "      <td>42766</td>\n",
       "      <td>5760.5802</td>\n",
       "    </tr>\n",
       "    <tr>\n",
       "      <th>1</th>\n",
       "      <td>2024</td>\n",
       "      <td>May</td>\n",
       "      <td>302.0</td>\n",
       "      <td>0.0</td>\n",
       "      <td>680</td>\n",
       "      <td>47979</td>\n",
       "      <td>23916</td>\n",
       "      <td>48961</td>\n",
       "      <td>6595.0467</td>\n",
       "    </tr>\n",
       "    <tr>\n",
       "      <th>2</th>\n",
       "      <td>2024</td>\n",
       "      <td>April</td>\n",
       "      <td>234.0</td>\n",
       "      <td>0.0</td>\n",
       "      <td>623</td>\n",
       "      <td>45833</td>\n",
       "      <td>23579</td>\n",
       "      <td>46691</td>\n",
       "      <td>6289.2777</td>\n",
       "    </tr>\n",
       "    <tr>\n",
       "      <th>3</th>\n",
       "      <td>2024</td>\n",
       "      <td>March</td>\n",
       "      <td>264.0</td>\n",
       "      <td>0.0</td>\n",
       "      <td>619</td>\n",
       "      <td>50850</td>\n",
       "      <td>24034</td>\n",
       "      <td>51733</td>\n",
       "      <td>6968.4351</td>\n",
       "    </tr>\n",
       "    <tr>\n",
       "      <th>4</th>\n",
       "      <td>2024</td>\n",
       "      <td>February</td>\n",
       "      <td>264.0</td>\n",
       "      <td>0.0</td>\n",
       "      <td>584</td>\n",
       "      <td>43488</td>\n",
       "      <td>22657</td>\n",
       "      <td>44335</td>\n",
       "      <td>5971.9245</td>\n",
       "    </tr>\n",
       "  </tbody>\n",
       "</table>\n",
       "</div>"
      ],
      "text/plain": [
       "   Year           Month  Prepaid Cards on ATMs  Charge Cards on ATMs  \\\n",
       "0        2024      June                  213.0                   0.0   \n",
       "1        2024       May                  302.0                   0.0   \n",
       "2        2024     April                  234.0                   0.0   \n",
       "3        2024     March                  264.0                   0.0   \n",
       "4        2024  February                  264.0                   0.0   \n",
       "\n",
       "   Credit Cards on ATMs  Debit Cards on ATMs  \\\n",
       "0                   639                41914   \n",
       "1                   680                47979   \n",
       "2                   623                45833   \n",
       "3                   619                50850   \n",
       "4                   584                43488   \n",
       "\n",
       "   POS Machines (Debit, Credit, Prepaid, Charge Cards)  Total  \\\n",
       "0                                              22308    42766   \n",
       "1                                              23916    48961   \n",
       "2                                              23579    46691   \n",
       "3                                              24034    51733   \n",
       "4                                              22657    44335   \n",
       "\n",
       "   Fraud Volumes (In Millions)  \n",
       "0                    5760.5802  \n",
       "1                    6595.0467  \n",
       "2                    6289.2777  \n",
       "3                    6968.4351  \n",
       "4                    5971.9245  "
      ]
     },
     "execution_count": 11,
     "metadata": {},
     "output_type": "execute_result"
    }
   ],
   "source": [
    "df = pd.read_csv(\"data/fraud_data.csv\")\n",
    "df.head()"
   ]
  }
 ],
 "metadata": {
  "kernelspec": {
   "display_name": "Python 3",
   "language": "python",
   "name": "python3"
  },
  "language_info": {
   "codemirror_mode": {
    "name": "ipython",
    "version": 3
   },
   "file_extension": ".py",
   "mimetype": "text/x-python",
   "name": "python",
   "nbconvert_exporter": "python",
   "pygments_lexer": "ipython3",
   "version": "3.12.1"
  }
 },
 "nbformat": 4,
 "nbformat_minor": 2
}
