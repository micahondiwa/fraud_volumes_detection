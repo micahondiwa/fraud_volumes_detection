{
 "cells": [
  {
   "cell_type": "markdown",
   "metadata": {},
   "source": [
    "# Data Wrangling"
   ]
  },
  {
   "cell_type": "code",
   "execution_count": 9,
   "metadata": {},
   "outputs": [],
   "source": [
    "import pandas as pd \n",
    "import plotly.express as px \n",
    "from sklearn.metrics import mean_absolute_error\n",
    "from statsmodels.graphics.tsaplots import plot_pacf, plot_acf\n",
    "from statsmodels.tsa.ar_model import AutoReg"
   ]
  },
  {
   "cell_type": "markdown",
   "metadata": {},
   "source": [
    "**Importing Data**"
   ]
  },
  {
   "cell_type": "code",
   "execution_count": 34,
   "metadata": {},
   "outputs": [],
   "source": [
    "def wrangle(filepath):\n",
    "    #Read data into csv\n",
    "    df = pd.read_csv(filepath)\n",
    "    \n",
    "    # Combine 'Year' and 'Month' into a 'Date' column\n",
    "    df['Date'] = df['Month'] + ' ' + df[\"Year \\xa0 \\xa0 \\xa0\"].astype(str)\n",
    "\n",
    "    # Convert 'Date' column to datetime format\n",
    "    df['Date'] = pd.to_datetime(df['Date'], format='%B %Y')\n",
    "\n",
    "    # Set 'Date' as the index\n",
    "    df.set_index('Date', inplace=True)\n",
    "\n",
    "    # Sort the DataFrame by the new datetime index\n",
    "    df.sort_index(inplace=True)\n",
    "\n",
    "    # Keep only the 'Fraud Volumes (In Millions)' column\n",
    "    fraud_series = df['Fraud Volumes (In Millions)']\n",
    "\n",
    "    return fraud_series"
   ]
  },
  {
   "cell_type": "code",
   "execution_count": 36,
   "metadata": {},
   "outputs": [
    {
     "data": {
      "text/plain": [
       "Date\n",
       "2009-07-01    4288.5786\n",
       "2009-08-01    4365.7617\n",
       "2009-09-01    4222.9797\n",
       "2009-10-01    4366.1658\n",
       "2009-11-01    3143.0898\n",
       "                ...    \n",
       "2024-02-01    5971.9245\n",
       "2024-03-01    6968.4351\n",
       "2024-04-01    6289.2777\n",
       "2024-05-01    6595.0467\n",
       "2024-06-01    5760.5802\n",
       "Name: Fraud Volumes (In Millions), Length: 180, dtype: float64"
      ]
     },
     "execution_count": 36,
     "metadata": {},
     "output_type": "execute_result"
    }
   ],
   "source": [
    "wrangle(filepath=\"data/fraud_data.csv\")"
   ]
  },
  {
   "cell_type": "code",
   "execution_count": null,
   "metadata": {},
   "outputs": [],
   "source": []
  }
 ],
 "metadata": {
  "kernelspec": {
   "display_name": "Python 3",
   "language": "python",
   "name": "python3"
  },
  "language_info": {
   "codemirror_mode": {
    "name": "ipython",
    "version": 3
   },
   "file_extension": ".py",
   "mimetype": "text/x-python",
   "name": "python",
   "nbconvert_exporter": "python",
   "pygments_lexer": "ipython3",
   "version": "3.12.1"
  }
 },
 "nbformat": 4,
 "nbformat_minor": 2
}
